{
 "cells": [
  {
   "cell_type": "markdown",
   "id": "d8332f5b",
   "metadata": {},
   "source": [
    "## Predicting JABIL's closing stock prices"
   ]
  },
  {
   "cell_type": "code",
   "execution_count": 70,
   "id": "2b4c9a3e",
   "metadata": {},
   "outputs": [],
   "source": [
    "import numpy as np\n",
    "import pandas as pd\n",
    "from sklearn.preprocessing import StandardScaler\n",
    "from sklearn.model_selection import train_test_split\n",
    "from sklearn.metrics import mean_squared_error\n",
    "from tensorflow.keras.models import Sequential\n",
    "from tensorflow.keras.layers import Dense, SimpleRNN, LSTM, GRU, Conv1D, Flatten\n",
    "from tensorflow.keras.optimizers import Adam\n",
    "import matplotlib.pyplot as plt\n",
    "import tensorflow as tf\n",
    "from tensorflow import keras"
   ]
  },
  {
   "cell_type": "code",
   "execution_count": 71,
   "id": "341612bc",
   "metadata": {},
   "outputs": [],
   "source": [
    "np.random.seed(1)\n",
    "tf.random.set_seed(1)"
   ]
  },
  {
   "cell_type": "code",
   "execution_count": 72,
   "id": "0e6a4979",
   "metadata": {},
   "outputs": [],
   "source": [
    "# Reading Google (Alphabet's) Stock data\n",
    "\n",
    "df = pd.read_csv('JBL.csv')"
   ]
  },
  {
   "cell_type": "code",
   "execution_count": 73,
   "id": "4956c5de",
   "metadata": {},
   "outputs": [
    {
     "data": {
      "text/html": [
       "<div>\n",
       "<style scoped>\n",
       "    .dataframe tbody tr th:only-of-type {\n",
       "        vertical-align: middle;\n",
       "    }\n",
       "\n",
       "    .dataframe tbody tr th {\n",
       "        vertical-align: top;\n",
       "    }\n",
       "\n",
       "    .dataframe thead th {\n",
       "        text-align: right;\n",
       "    }\n",
       "</style>\n",
       "<table border=\"1\" class=\"dataframe\">\n",
       "  <thead>\n",
       "    <tr style=\"text-align: right;\">\n",
       "      <th></th>\n",
       "      <th>Date</th>\n",
       "      <th>Open</th>\n",
       "      <th>High</th>\n",
       "      <th>Low</th>\n",
       "      <th>Close</th>\n",
       "      <th>Adj Close</th>\n",
       "      <th>Volume</th>\n",
       "    </tr>\n",
       "  </thead>\n",
       "  <tbody>\n",
       "    <tr>\n",
       "      <th>0</th>\n",
       "      <td>2022-10-24</td>\n",
       "      <td>62.720001</td>\n",
       "      <td>63.279999</td>\n",
       "      <td>61.959999</td>\n",
       "      <td>62.880001</td>\n",
       "      <td>62.744110</td>\n",
       "      <td>918000</td>\n",
       "    </tr>\n",
       "    <tr>\n",
       "      <th>1</th>\n",
       "      <td>2022-10-25</td>\n",
       "      <td>62.700001</td>\n",
       "      <td>64.989998</td>\n",
       "      <td>62.630001</td>\n",
       "      <td>64.709999</td>\n",
       "      <td>64.570152</td>\n",
       "      <td>1206500</td>\n",
       "    </tr>\n",
       "    <tr>\n",
       "      <th>2</th>\n",
       "      <td>2022-10-26</td>\n",
       "      <td>64.360001</td>\n",
       "      <td>65.150002</td>\n",
       "      <td>64.129997</td>\n",
       "      <td>64.139999</td>\n",
       "      <td>64.001389</td>\n",
       "      <td>1233700</td>\n",
       "    </tr>\n",
       "    <tr>\n",
       "      <th>3</th>\n",
       "      <td>2022-10-27</td>\n",
       "      <td>65.129997</td>\n",
       "      <td>65.610001</td>\n",
       "      <td>63.730000</td>\n",
       "      <td>63.980000</td>\n",
       "      <td>63.841732</td>\n",
       "      <td>1021200</td>\n",
       "    </tr>\n",
       "    <tr>\n",
       "      <th>4</th>\n",
       "      <td>2022-10-28</td>\n",
       "      <td>64.260002</td>\n",
       "      <td>66.180000</td>\n",
       "      <td>63.880001</td>\n",
       "      <td>65.349998</td>\n",
       "      <td>65.208763</td>\n",
       "      <td>1203300</td>\n",
       "    </tr>\n",
       "  </tbody>\n",
       "</table>\n",
       "</div>"
      ],
      "text/plain": [
       "         Date       Open       High        Low      Close  Adj Close   Volume\n",
       "0  2022-10-24  62.720001  63.279999  61.959999  62.880001  62.744110   918000\n",
       "1  2022-10-25  62.700001  64.989998  62.630001  64.709999  64.570152  1206500\n",
       "2  2022-10-26  64.360001  65.150002  64.129997  64.139999  64.001389  1233700\n",
       "3  2022-10-27  65.129997  65.610001  63.730000  63.980000  63.841732  1021200\n",
       "4  2022-10-28  64.260002  66.180000  63.880001  65.349998  65.208763  1203300"
      ]
     },
     "execution_count": 73,
     "metadata": {},
     "output_type": "execute_result"
    }
   ],
   "source": [
    "# Looking at content using .head() command\n",
    "\n",
    "df.head()"
   ]
  },
  {
   "cell_type": "code",
   "execution_count": 53,
   "id": "99702b48",
   "metadata": {},
   "outputs": [
    {
     "data": {
      "text/plain": [
       "Index(['Date', 'Open', 'High', 'Low', 'Close', 'Adj Close', 'Volume'], dtype='object')"
      ]
     },
     "execution_count": 53,
     "metadata": {},
     "output_type": "execute_result"
    }
   ],
   "source": [
    "df.columns"
   ]
  },
  {
   "cell_type": "code",
   "execution_count": 74,
   "id": "3de5c1b9",
   "metadata": {},
   "outputs": [
    {
     "name": "stdout",
     "output_type": "stream",
     "text": [
      "<class 'pandas.core.frame.DataFrame'>\n",
      "RangeIndex: 124 entries, 0 to 123\n",
      "Data columns (total 7 columns):\n",
      " #   Column     Non-Null Count  Dtype  \n",
      "---  ------     --------------  -----  \n",
      " 0   Date       124 non-null    object \n",
      " 1   Open       124 non-null    float64\n",
      " 2   High       124 non-null    float64\n",
      " 3   Low        124 non-null    float64\n",
      " 4   Close      124 non-null    float64\n",
      " 5   Adj Close  124 non-null    float64\n",
      " 6   Volume     124 non-null    int64  \n",
      "dtypes: float64(5), int64(1), object(1)\n",
      "memory usage: 6.9+ KB\n"
     ]
    }
   ],
   "source": [
    "# Lets look at some of the datatypes\n",
    "\n",
    "df.info()"
   ]
  },
  {
   "cell_type": "code",
   "execution_count": 75,
   "id": "a4ff388b",
   "metadata": {},
   "outputs": [],
   "source": [
    "# We are going to predict Closing price, we can drop everything else\n",
    "\n",
    "df = df[['Date', 'Close']]"
   ]
  },
  {
   "cell_type": "code",
   "execution_count": 76,
   "id": "4bad9d26",
   "metadata": {},
   "outputs": [
    {
     "data": {
      "text/html": [
       "<div>\n",
       "<style scoped>\n",
       "    .dataframe tbody tr th:only-of-type {\n",
       "        vertical-align: middle;\n",
       "    }\n",
       "\n",
       "    .dataframe tbody tr th {\n",
       "        vertical-align: top;\n",
       "    }\n",
       "\n",
       "    .dataframe thead th {\n",
       "        text-align: right;\n",
       "    }\n",
       "</style>\n",
       "<table border=\"1\" class=\"dataframe\">\n",
       "  <thead>\n",
       "    <tr style=\"text-align: right;\">\n",
       "      <th></th>\n",
       "      <th>Date</th>\n",
       "      <th>Close</th>\n",
       "    </tr>\n",
       "  </thead>\n",
       "  <tbody>\n",
       "    <tr>\n",
       "      <th>0</th>\n",
       "      <td>2022-10-24</td>\n",
       "      <td>62.880001</td>\n",
       "    </tr>\n",
       "    <tr>\n",
       "      <th>1</th>\n",
       "      <td>2022-10-25</td>\n",
       "      <td>64.709999</td>\n",
       "    </tr>\n",
       "    <tr>\n",
       "      <th>2</th>\n",
       "      <td>2022-10-26</td>\n",
       "      <td>64.139999</td>\n",
       "    </tr>\n",
       "    <tr>\n",
       "      <th>3</th>\n",
       "      <td>2022-10-27</td>\n",
       "      <td>63.980000</td>\n",
       "    </tr>\n",
       "    <tr>\n",
       "      <th>4</th>\n",
       "      <td>2022-10-28</td>\n",
       "      <td>65.349998</td>\n",
       "    </tr>\n",
       "  </tbody>\n",
       "</table>\n",
       "</div>"
      ],
      "text/plain": [
       "         Date      Close\n",
       "0  2022-10-24  62.880001\n",
       "1  2022-10-25  64.709999\n",
       "2  2022-10-26  64.139999\n",
       "3  2022-10-27  63.980000\n",
       "4  2022-10-28  65.349998"
      ]
     },
     "execution_count": 76,
     "metadata": {},
     "output_type": "execute_result"
    }
   ],
   "source": [
    "df.head()"
   ]
  },
  {
   "cell_type": "code",
   "execution_count": 77,
   "id": "b8437e90",
   "metadata": {},
   "outputs": [
    {
     "data": {
      "text/plain": [
       "0"
      ]
     },
     "execution_count": 77,
     "metadata": {},
     "output_type": "execute_result"
    }
   ],
   "source": [
    "df['Close'].isna().sum()"
   ]
  },
  {
   "cell_type": "markdown",
   "id": "2c539a7b",
   "metadata": {},
   "source": [
    "No missing values"
   ]
  },
  {
   "cell_type": "code",
   "execution_count": 78,
   "id": "1d77f5c7",
   "metadata": {},
   "outputs": [
    {
     "data": {
      "text/plain": [
       "[<matplotlib.lines.Line2D at 0x18091f4a350>]"
      ]
     },
     "execution_count": 78,
     "metadata": {},
     "output_type": "execute_result"
    },
    {
     "data": {
      "image/png": "[encoded data removed]",
      "text/plain": [
       "<Figure size 640x480 with 1 Axes>"
      ]
     },
     "metadata": {},
     "output_type": "display_data"
    }
   ],
   "source": [
    "# We do not see any evidence of outliers or missing values, so we are good to go\n",
    "\n",
    "plt.plot(df['Close'])"
   ]
  },
  {
   "cell_type": "markdown",
   "id": "210c1d4f",
   "metadata": {},
   "source": [
    "## Reshape for standardizing data"
   ]
  },
  {
   "cell_type": "code",
   "execution_count": 79,
   "id": "f4410d5c",
   "metadata": {},
   "outputs": [
    {
     "data": {
      "text/plain": [
       "(124, 1)"
      ]
     },
     "execution_count": 79,
     "metadata": {},
     "output_type": "execute_result"
    }
   ],
   "source": [
    "# Extract the 'Close' column from the DataFrame\n",
    "close_prices = np.array(df['Close']).reshape(-1, 1)\n",
    "close_prices.shape"
   ]
  },
  {
   "cell_type": "markdown",
   "id": "f42b200d",
   "metadata": {},
   "source": [
    "## Standardize the values"
   ]
  },
  {
   "cell_type": "code",
   "execution_count": 80,
   "id": "02f535d0",
   "metadata": {},
   "outputs": [],
   "source": [
    "# Instantiate the StandardScaler\n",
    "scaler = StandardScaler()\n",
    "\n",
    "# Fit and transform the data\n",
    "close_prices_scaled = scaler.fit_transform(close_prices)"
   ]
  },
  {
   "cell_type": "markdown",
   "id": "9101a762",
   "metadata": {},
   "source": [
    "## Let's split the data into Test and Train"
   ]
  },
  {
   "cell_type": "code",
   "execution_count": 81,
   "id": "2f9e5bf2",
   "metadata": {},
   "outputs": [],
   "source": [
    "train, test = train_test_split(close_prices_scaled, test_size=0.3, random_state = 42)"
   ]
  },
  {
   "cell_type": "markdown",
   "id": "870a2125",
   "metadata": {},
   "source": [
    "### Since, we need to keep the order, as we are predicting a time series object which needs to be in chronological order"
   ]
  },
  {
   "cell_type": "code",
   "execution_count": 82,
   "id": "2a925fc7",
   "metadata": {},
   "outputs": [],
   "source": [
    "# Splitting based on order\n",
    "\n",
    "split_point = int(len(close_prices_scaled) * 0.7)\n",
    "train, test = close_prices_scaled[:split_point], close_prices_scaled[split_point:]\n"
   ]
  },
  {
   "cell_type": "markdown",
   "id": "174fa55a",
   "metadata": {},
   "source": [
    "## Let's keep it simple and create X_train, X_test, y_train, y_test using a 9:1 ratio as we are predicting 10th day price based on last 9 days"
   ]
  },
  {
   "cell_type": "code",
   "execution_count": 83,
   "id": "0baec56a",
   "metadata": {},
   "outputs": [],
   "source": [
    "# 9 days split\n",
    "num_cols = 9\n",
    "\n",
    "\n",
    "X_train = []\n",
    "y_train = []\n",
    "for i in range(len(train) - num_cols):\n",
    "    X_train.append(train[i:i+num_cols])\n",
    "    y_train.append(train[i+num_cols])\n",
    "\n",
    "X_train, y_train = np.array(X_train), np.array(y_train)\n",
    "\n",
    "X_test = []\n",
    "y_test = []\n",
    "for i in range(len(test) - num_cols):\n",
    "    X_test.append(test[i:i+num_cols])\n",
    "    y_test.append(test[i+num_cols])\n",
    "\n",
    "X_test, y_test = np.array(X_test), np.array(y_test)\n"
   ]
  },
  {
   "cell_type": "code",
   "execution_count": 84,
   "id": "f9cd06ea",
   "metadata": {
    "scrolled": true
   },
   "outputs": [
    {
     "data": {
      "text/plain": [
       "array([[-1.49759446],\n",
       "       [-1.57332112],\n",
       "       [-1.59457759],\n",
       "       [-1.41256817],\n",
       "       [-1.55870707],\n",
       "       [-1.31956985],\n",
       "       [-1.63576253],\n",
       "       [-1.71946002],\n",
       "       [-1.59457759]])"
      ]
     },
     "execution_count": 84,
     "metadata": {},
     "output_type": "execute_result"
    }
   ],
   "source": [
    "X_train[1]"
   ]
  },
  {
   "cell_type": "code",
   "execution_count": 85,
   "id": "f066cba1",
   "metadata": {},
   "outputs": [
    {
     "data": {
      "text/plain": [
       "array([[1.09039774],\n",
       "       [1.08375465],\n",
       "       [1.23387917],\n",
       "       [1.13291095],\n",
       "       [1.07046954],\n",
       "       [1.17675191],\n",
       "       [0.98145777],\n",
       "       [0.78749137],\n",
       "       [0.71309245]])"
      ]
     },
     "execution_count": 85,
     "metadata": {},
     "output_type": "execute_result"
    }
   ],
   "source": [
    "X_test[1]"
   ]
  },
  {
   "cell_type": "code",
   "execution_count": 86,
   "id": "ba0619db",
   "metadata": {},
   "outputs": [
    {
     "data": {
      "text/plain": [
       "array([-1.76197323])"
      ]
     },
     "execution_count": 86,
     "metadata": {},
     "output_type": "execute_result"
    }
   ],
   "source": [
    "y_train[1]"
   ]
  },
  {
   "cell_type": "code",
   "execution_count": 87,
   "id": "2b0d0f6c",
   "metadata": {
    "scrolled": false
   },
   "outputs": [
    {
     "data": {
      "text/plain": [
       "array([0.92565838])"
      ]
     },
     "execution_count": 87,
     "metadata": {},
     "output_type": "execute_result"
    }
   ],
   "source": [
    "y_test[1]"
   ]
  },
  {
   "cell_type": "markdown",
   "id": "61828b27",
   "metadata": {},
   "source": [
    "## Simple RNN"
   ]
  },
  {
   "cell_type": "code",
   "execution_count": 88,
   "id": "88d6ef71",
   "metadata": {},
   "outputs": [],
   "source": [
    "rnn_model = keras.models.Sequential([\n",
    "    keras.layers.SimpleRNN(32, activation='relu', input_shape=[9, 1]),\n",
    "    keras.layers.Dense(1, activation=None)\n",
    "])"
   ]
  },
  {
   "cell_type": "code",
   "execution_count": 89,
   "id": "c7c7ac22",
   "metadata": {},
   "outputs": [],
   "source": [
    "np.random.seed(42)\n",
    "tf.random.set_seed(42)\n",
    "\n",
    "rnn_model.compile(loss=\"mse\", optimizer='Adam')"
   ]
  },
  {
   "cell_type": "code",
   "execution_count": 90,
   "id": "67235fef",
   "metadata": {
    "scrolled": true
   },
   "outputs": [
    {
     "name": "stdout",
     "output_type": "stream",
     "text": [
      "Epoch 1/50\n",
      "2/2 [==============================] - 4s 27ms/step - loss: 0.4033\n",
      "Epoch 2/50\n",
      "2/2 [==============================] - 0s 7ms/step - loss: 0.3101\n",
      "Epoch 3/50\n",
      "2/2 [==============================] - 0s 8ms/step - loss: 0.2379\n",
      "Epoch 4/50\n",
      "2/2 [==============================] - 0s 5ms/step - loss: 0.1864\n",
      "Epoch 5/50\n",
      "2/2 [==============================] - 0s 5ms/step - loss: 0.1490\n",
      "Epoch 6/50\n",
      "2/2 [==============================] - 0s 6ms/step - loss: 0.1294\n",
      "Epoch 7/50\n",
      "2/2 [==============================] - 0s 2ms/step - loss: 0.1189\n",
      "Epoch 8/50\n",
      "2/2 [==============================] - 0s 5ms/step - loss: 0.1120\n",
      "Epoch 9/50\n",
      "2/2 [==============================] - 0s 5ms/step - loss: 0.1019\n",
      "Epoch 10/50\n",
      "2/2 [==============================] - 0s 9ms/step - loss: 0.0901\n",
      "Epoch 11/50\n",
      "2/2 [==============================] - 0s 11ms/step - loss: 0.0787\n",
      "Epoch 12/50\n",
      "2/2 [==============================] - 0s 6ms/step - loss: 0.0680\n",
      "Epoch 13/50\n",
      "2/2 [==============================] - 0s 4ms/step - loss: 0.0601\n",
      "Epoch 14/50\n",
      "2/2 [==============================] - 0s 5ms/step - loss: 0.0553\n",
      "Epoch 15/50\n",
      "2/2 [==============================] - 0s 9ms/step - loss: 0.0533\n",
      "Epoch 16/50\n",
      "2/2 [==============================] - 0s 0s/step - loss: 0.0519\n",
      "Epoch 17/50\n",
      "2/2 [==============================] - 0s 4ms/step - loss: 0.0499\n",
      "Epoch 18/50\n",
      "2/2 [==============================] - 0s 3ms/step - loss: 0.0481\n",
      "Epoch 19/50\n",
      "2/2 [==============================] - 0s 2ms/step - loss: 0.0469\n",
      "Epoch 20/50\n",
      "2/2 [==============================] - 0s 5ms/step - loss: 0.0462\n",
      "Epoch 21/50\n",
      "2/2 [==============================] - 0s 6ms/step - loss: 0.0458\n",
      "Epoch 22/50\n",
      "2/2 [==============================] - 0s 1ms/step - loss: 0.0456\n",
      "Epoch 23/50\n",
      "2/2 [==============================] - 0s 5ms/step - loss: 0.0456\n",
      "Epoch 24/50\n",
      "2/2 [==============================] - 0s 5ms/step - loss: 0.0449\n",
      "Epoch 25/50\n",
      "2/2 [==============================] - 0s 4ms/step - loss: 0.0433\n",
      "Epoch 26/50\n",
      "2/2 [==============================] - 0s 14ms/step - loss: 0.0428\n",
      "Epoch 27/50\n",
      "2/2 [==============================] - 0s 11ms/step - loss: 0.0421\n",
      "Epoch 28/50\n",
      "2/2 [==============================] - 0s 4ms/step - loss: 0.0416\n",
      "Epoch 29/50\n",
      "2/2 [==============================] - 0s 2ms/step - loss: 0.0411\n",
      "Epoch 30/50\n",
      "2/2 [==============================] - 0s 7ms/step - loss: 0.0403\n",
      "Epoch 31/50\n",
      "2/2 [==============================] - 0s 6ms/step - loss: 0.0391\n",
      "Epoch 32/50\n",
      "2/2 [==============================] - 0s 7ms/step - loss: 0.0385\n",
      "Epoch 33/50\n",
      "2/2 [==============================] - 0s 3ms/step - loss: 0.0373\n",
      "Epoch 34/50\n",
      "2/2 [==============================] - 0s 9ms/step - loss: 0.0367\n",
      "Epoch 35/50\n",
      "2/2 [==============================] - 0s 2ms/step - loss: 0.0363\n",
      "Epoch 36/50\n",
      "2/2 [==============================] - 0s 11ms/step - loss: 0.0358\n",
      "Epoch 37/50\n",
      "2/2 [==============================] - 0s 0s/step - loss: 0.0350\n",
      "Epoch 38/50\n",
      "2/2 [==============================] - 0s 5ms/step - loss: 0.0346\n",
      "Epoch 39/50\n",
      "2/2 [==============================] - 0s 8ms/step - loss: 0.0349\n",
      "Epoch 40/50\n",
      "2/2 [==============================] - 0s 5ms/step - loss: 0.0349\n",
      "Epoch 41/50\n",
      "2/2 [==============================] - 0s 6ms/step - loss: 0.0341\n",
      "Epoch 42/50\n",
      "2/2 [==============================] - 0s 12ms/step - loss: 0.0332\n",
      "Epoch 43/50\n",
      "2/2 [==============================] - 0s 4ms/step - loss: 0.0329\n",
      "Epoch 44/50\n",
      "2/2 [==============================] - 0s 5ms/step - loss: 0.0346\n",
      "Epoch 45/50\n",
      "2/2 [==============================] - 0s 7ms/step - loss: 0.0358\n",
      "Epoch 46/50\n",
      "2/2 [==============================] - 0s 11ms/step - loss: 0.0347\n",
      "Epoch 47/50\n",
      "2/2 [==============================] - 0s 0s/step - loss: 0.0327\n",
      "Epoch 48/50\n",
      "2/2 [==============================] - 0s 6ms/step - loss: 0.0325\n",
      "Epoch 49/50\n",
      "2/2 [==============================] - 0s 11ms/step - loss: 0.0322\n",
      "Epoch 50/50\n",
      "2/2 [==============================] - 0s 9ms/step - loss: 0.0318\n"
     ]
    }
   ],
   "source": [
    "# Train the model\n",
    "history = rnn_model.fit(X_train, y_train, epochs=50, batch_size=64)"
   ]
  },
  {
   "cell_type": "markdown",
   "id": "2a3b0d6f",
   "metadata": {},
   "source": [
    "## Predictions"
   ]
  },
  {
   "cell_type": "code",
   "execution_count": 92,
   "id": "8ba69e05",
   "metadata": {},
   "outputs": [
    {
     "name": "stdout",
     "output_type": "stream",
     "text": [
      "1/1 [==============================] - 0s 42ms/step\n"
     ]
    }
   ],
   "source": [
    "#Predict:\n",
    "y_pred = rnn_model.predict(X_test)"
   ]
  },
  {
   "cell_type": "code",
   "execution_count": 93,
   "id": "1bfc918e",
   "metadata": {},
   "outputs": [],
   "source": [
    "#Remember, these are standardized values. \n",
    "\n",
    "comparison = pd.DataFrame()\n",
    "\n",
    "comparison['actual'] = scaler.inverse_transform(y_test.reshape(-1, 1)).flatten()\n",
    "comparison['predicted'] = scaler.inverse_transform(y_pred).flatten()"
   ]
  },
  {
   "cell_type": "code",
   "execution_count": 94,
   "id": "e95fd34e",
   "metadata": {},
   "outputs": [
    {
     "data": {
      "text/html": [
       "<div>\n",
       "<style scoped>\n",
       "    .dataframe tbody tr th:only-of-type {\n",
       "        vertical-align: middle;\n",
       "    }\n",
       "\n",
       "    .dataframe tbody tr th {\n",
       "        vertical-align: top;\n",
       "    }\n",
       "\n",
       "    .dataframe thead th {\n",
       "        text-align: right;\n",
       "    }\n",
       "</style>\n",
       "<table border=\"1\" class=\"dataframe\">\n",
       "  <thead>\n",
       "    <tr style=\"text-align: right;\">\n",
       "      <th></th>\n",
       "      <th>actual</th>\n",
       "      <th>predicted</th>\n",
       "    </tr>\n",
       "  </thead>\n",
       "  <tbody>\n",
       "    <tr>\n",
       "      <th>0</th>\n",
       "      <td>81.349998</td>\n",
       "      <td>82.050598</td>\n",
       "    </tr>\n",
       "    <tr>\n",
       "      <th>1</th>\n",
       "      <td>82.949997</td>\n",
       "      <td>81.625183</td>\n",
       "    </tr>\n",
       "    <tr>\n",
       "      <th>2</th>\n",
       "      <td>80.330002</td>\n",
       "      <td>83.211517</td>\n",
       "    </tr>\n",
       "    <tr>\n",
       "      <th>3</th>\n",
       "      <td>78.370003</td>\n",
       "      <td>80.885231</td>\n",
       "    </tr>\n",
       "    <tr>\n",
       "      <th>4</th>\n",
       "      <td>78.959999</td>\n",
       "      <td>78.803360</td>\n",
       "    </tr>\n",
       "    <tr>\n",
       "      <th>5</th>\n",
       "      <td>81.099998</td>\n",
       "      <td>79.441856</td>\n",
       "    </tr>\n",
       "    <tr>\n",
       "      <th>6</th>\n",
       "      <td>82.540001</td>\n",
       "      <td>81.548790</td>\n",
       "    </tr>\n",
       "    <tr>\n",
       "      <th>7</th>\n",
       "      <td>82.330002</td>\n",
       "      <td>82.699554</td>\n",
       "    </tr>\n",
       "    <tr>\n",
       "      <th>8</th>\n",
       "      <td>83.139999</td>\n",
       "      <td>82.351456</td>\n",
       "    </tr>\n",
       "    <tr>\n",
       "      <th>9</th>\n",
       "      <td>83.370003</td>\n",
       "      <td>82.916580</td>\n",
       "    </tr>\n",
       "    <tr>\n",
       "      <th>10</th>\n",
       "      <td>82.980003</td>\n",
       "      <td>83.265747</td>\n",
       "    </tr>\n",
       "    <tr>\n",
       "      <th>11</th>\n",
       "      <td>83.239998</td>\n",
       "      <td>82.870049</td>\n",
       "    </tr>\n",
       "    <tr>\n",
       "      <th>12</th>\n",
       "      <td>84.620003</td>\n",
       "      <td>83.094635</td>\n",
       "    </tr>\n",
       "    <tr>\n",
       "      <th>13</th>\n",
       "      <td>86.739998</td>\n",
       "      <td>84.462555</td>\n",
       "    </tr>\n",
       "    <tr>\n",
       "      <th>14</th>\n",
       "      <td>88.160004</td>\n",
       "      <td>86.423950</td>\n",
       "    </tr>\n",
       "    <tr>\n",
       "      <th>15</th>\n",
       "      <td>87.459999</td>\n",
       "      <td>87.628998</td>\n",
       "    </tr>\n",
       "    <tr>\n",
       "      <th>16</th>\n",
       "      <td>85.099998</td>\n",
       "      <td>86.874893</td>\n",
       "    </tr>\n",
       "    <tr>\n",
       "      <th>17</th>\n",
       "      <td>83.199997</td>\n",
       "      <td>84.670990</td>\n",
       "    </tr>\n",
       "    <tr>\n",
       "      <th>18</th>\n",
       "      <td>82.080002</td>\n",
       "      <td>83.059525</td>\n",
       "    </tr>\n",
       "    <tr>\n",
       "      <th>19</th>\n",
       "      <td>83.050003</td>\n",
       "      <td>82.392792</td>\n",
       "    </tr>\n",
       "    <tr>\n",
       "      <th>20</th>\n",
       "      <td>83.120003</td>\n",
       "      <td>83.451347</td>\n",
       "    </tr>\n",
       "    <tr>\n",
       "      <th>21</th>\n",
       "      <td>83.440002</td>\n",
       "      <td>83.508606</td>\n",
       "    </tr>\n",
       "    <tr>\n",
       "      <th>22</th>\n",
       "      <td>84.110001</td>\n",
       "      <td>83.584137</td>\n",
       "    </tr>\n",
       "    <tr>\n",
       "      <th>23</th>\n",
       "      <td>83.760002</td>\n",
       "      <td>84.058289</td>\n",
       "    </tr>\n",
       "    <tr>\n",
       "      <th>24</th>\n",
       "      <td>83.519997</td>\n",
       "      <td>83.773376</td>\n",
       "    </tr>\n",
       "    <tr>\n",
       "      <th>25</th>\n",
       "      <td>84.160004</td>\n",
       "      <td>83.453636</td>\n",
       "    </tr>\n",
       "    <tr>\n",
       "      <th>26</th>\n",
       "      <td>81.709999</td>\n",
       "      <td>84.037056</td>\n",
       "    </tr>\n",
       "    <tr>\n",
       "      <th>27</th>\n",
       "      <td>81.389999</td>\n",
       "      <td>81.943405</td>\n",
       "    </tr>\n",
       "    <tr>\n",
       "      <th>28</th>\n",
       "      <td>78.809998</td>\n",
       "      <td>81.511108</td>\n",
       "    </tr>\n",
       "  </tbody>\n",
       "</table>\n",
       "</div>"
      ],
      "text/plain": [
       "       actual  predicted\n",
       "0   81.349998  82.050598\n",
       "1   82.949997  81.625183\n",
       "2   80.330002  83.211517\n",
       "3   78.370003  80.885231\n",
       "4   78.959999  78.803360\n",
       "5   81.099998  79.441856\n",
       "6   82.540001  81.548790\n",
       "7   82.330002  82.699554\n",
       "8   83.139999  82.351456\n",
       "9   83.370003  82.916580\n",
       "10  82.980003  83.265747\n",
       "11  83.239998  82.870049\n",
       "12  84.620003  83.094635\n",
       "13  86.739998  84.462555\n",
       "14  88.160004  86.423950\n",
       "15  87.459999  87.628998\n",
       "16  85.099998  86.874893\n",
       "17  83.199997  84.670990\n",
       "18  82.080002  83.059525\n",
       "19  83.050003  82.392792\n",
       "20  83.120003  83.451347\n",
       "21  83.440002  83.508606\n",
       "22  84.110001  83.584137\n",
       "23  83.760002  84.058289\n",
       "24  83.519997  83.773376\n",
       "25  84.160004  83.453636\n",
       "26  81.709999  84.037056\n",
       "27  81.389999  81.943405\n",
       "28  78.809998  81.511108"
      ]
     },
     "execution_count": 94,
     "metadata": {},
     "output_type": "execute_result"
    }
   ],
   "source": [
    "comparison"
   ]
  },
  {
   "cell_type": "code",
   "execution_count": 95,
   "id": "25c1f986",
   "metadata": {},
   "outputs": [],
   "source": [
    "rnn_model_mse = mean_squared_error(comparison['actual'], comparison['predicted'])"
   ]
  },
  {
   "cell_type": "code",
   "execution_count": 96,
   "id": "39434376",
   "metadata": {},
   "outputs": [
    {
     "data": {
      "image/png": "[encoded data removed]",
      "text/plain": [
       "<Figure size 640x480 with 1 Axes>"
      ]
     },
     "metadata": {},
     "output_type": "display_data"
    }
   ],
   "source": [
    "plt.plot(comparison['actual'], label = 'actual')\n",
    "plt.plot(comparison['predicted'], label = 'predicted')\n",
    "\n",
    "plt.legend()\n",
    "\n",
    "plt.show()"
   ]
  },
  {
   "cell_type": "markdown",
   "id": "bc35ae9c",
   "metadata": {},
   "source": [
    "## LSTM with 2 Layers"
   ]
  },
  {
   "cell_type": "code",
   "execution_count": 97,
   "id": "7f6d067e",
   "metadata": {},
   "outputs": [],
   "source": [
    "lstm_model = keras.models.Sequential([\n",
    "    keras.layers.LSTM(32, activation='tanh', return_sequences=True, input_shape=[9, 1]),\n",
    "    keras.layers.LSTM(32, activation='tanh', return_sequences=False),\n",
    "    keras.layers.Dense(1, activation=None)\n",
    "])"
   ]
  },
  {
   "cell_type": "code",
   "execution_count": 98,
   "id": "3ec118fd",
   "metadata": {},
   "outputs": [],
   "source": [
    "np.random.seed(42)\n",
    "tf.random.set_seed(42)\n",
    "\n",
    "lstm_model.compile(loss=\"mse\", optimizer='Adam')"
   ]
  },
  {
   "cell_type": "code",
   "execution_count": 99,
   "id": "b4beed50",
   "metadata": {
    "scrolled": true
   },
   "outputs": [
    {
     "name": "stdout",
     "output_type": "stream",
     "text": [
      "Epoch 1/50\n",
      "2/2 [==============================] - 6s 24ms/step - loss: 0.8957\n",
      "Epoch 2/50\n",
      "2/2 [==============================] - 0s 11ms/step - loss: 0.7899\n",
      "Epoch 3/50\n",
      "2/2 [==============================] - 0s 11ms/step - loss: 0.6915\n",
      "Epoch 4/50\n",
      "2/2 [==============================] - 0s 11ms/step - loss: 0.6040\n",
      "Epoch 5/50\n",
      "2/2 [==============================] - 0s 10ms/step - loss: 0.5204\n",
      "Epoch 6/50\n",
      "2/2 [==============================] - 0s 8ms/step - loss: 0.4470\n",
      "Epoch 7/50\n",
      "2/2 [==============================] - 0s 10ms/step - loss: 0.3823\n",
      "Epoch 8/50\n",
      "2/2 [==============================] - 0s 14ms/step - loss: 0.3232\n",
      "Epoch 9/50\n",
      "2/2 [==============================] - 0s 7ms/step - loss: 0.2814\n",
      "Epoch 10/50\n",
      "2/2 [==============================] - 0s 13ms/step - loss: 0.2577\n",
      "Epoch 11/50\n",
      "2/2 [==============================] - 0s 14ms/step - loss: 0.2496\n",
      "Epoch 12/50\n",
      "2/2 [==============================] - 0s 7ms/step - loss: 0.2505\n",
      "Epoch 13/50\n",
      "2/2 [==============================] - 0s 16ms/step - loss: 0.2484\n",
      "Epoch 14/50\n",
      "2/2 [==============================] - 0s 18ms/step - loss: 0.2327\n",
      "Epoch 15/50\n",
      "2/2 [==============================] - 0s 15ms/step - loss: 0.2090\n",
      "Epoch 16/50\n",
      "2/2 [==============================] - 0s 13ms/step - loss: 0.1860\n",
      "Epoch 17/50\n",
      "2/2 [==============================] - 0s 7ms/step - loss: 0.1699\n",
      "Epoch 18/50\n",
      "2/2 [==============================] - 0s 19ms/step - loss: 0.1601\n",
      "Epoch 19/50\n",
      "2/2 [==============================] - 0s 14ms/step - loss: 0.1544\n",
      "Epoch 20/50\n",
      "2/2 [==============================] - 0s 13ms/step - loss: 0.1504\n",
      "Epoch 21/50\n",
      "2/2 [==============================] - 0s 17ms/step - loss: 0.1458\n",
      "Epoch 22/50\n",
      "2/2 [==============================] - 0s 16ms/step - loss: 0.1409\n",
      "Epoch 23/50\n",
      "2/2 [==============================] - 0s 17ms/step - loss: 0.1354\n",
      "Epoch 24/50\n",
      "2/2 [==============================] - 0s 16ms/step - loss: 0.1321\n",
      "Epoch 25/50\n",
      "2/2 [==============================] - 0s 15ms/step - loss: 0.1308\n",
      "Epoch 26/50\n",
      "2/2 [==============================] - 0s 13ms/step - loss: 0.1310\n",
      "Epoch 27/50\n",
      "2/2 [==============================] - 0s 12ms/step - loss: 0.1326\n",
      "Epoch 28/50\n",
      "2/2 [==============================] - 0s 7ms/step - loss: 0.1334\n",
      "Epoch 29/50\n",
      "2/2 [==============================] - 0s 17ms/step - loss: 0.1328\n",
      "Epoch 30/50\n",
      "2/2 [==============================] - 0s 2ms/step - loss: 0.1312\n",
      "Epoch 31/50\n",
      "2/2 [==============================] - 0s 10ms/step - loss: 0.1291\n",
      "Epoch 32/50\n",
      "2/2 [==============================] - 0s 14ms/step - loss: 0.1273\n",
      "Epoch 33/50\n",
      "2/2 [==============================] - 0s 9ms/step - loss: 0.1259\n",
      "Epoch 34/50\n",
      "2/2 [==============================] - 0s 16ms/step - loss: 0.1250\n",
      "Epoch 35/50\n",
      "2/2 [==============================] - 0s 7ms/step - loss: 0.1242\n",
      "Epoch 36/50\n",
      "2/2 [==============================] - 0s 15ms/step - loss: 0.1235\n",
      "Epoch 37/50\n",
      "2/2 [==============================] - 0s 13ms/step - loss: 0.1232\n",
      "Epoch 38/50\n",
      "2/2 [==============================] - 0s 9ms/step - loss: 0.1229\n",
      "Epoch 39/50\n",
      "2/2 [==============================] - 0s 14ms/step - loss: 0.1234\n",
      "Epoch 40/50\n",
      "2/2 [==============================] - 0s 6ms/step - loss: 0.1238\n",
      "Epoch 41/50\n",
      "2/2 [==============================] - 0s 12ms/step - loss: 0.1225\n",
      "Epoch 42/50\n",
      "2/2 [==============================] - 0s 17ms/step - loss: 0.1199\n",
      "Epoch 43/50\n",
      "2/2 [==============================] - 0s 17ms/step - loss: 0.1194\n",
      "Epoch 44/50\n",
      "2/2 [==============================] - 0s 13ms/step - loss: 0.1200\n",
      "Epoch 45/50\n",
      "2/2 [==============================] - 0s 17ms/step - loss: 0.1221\n",
      "Epoch 46/50\n",
      "2/2 [==============================] - 0s 14ms/step - loss: 0.1241\n",
      "Epoch 47/50\n",
      "2/2 [==============================] - 0s 14ms/step - loss: 0.1249\n",
      "Epoch 48/50\n",
      "2/2 [==============================] - 0s 15ms/step - loss: 0.1240\n",
      "Epoch 49/50\n",
      "2/2 [==============================] - 0s 16ms/step - loss: 0.1213\n",
      "Epoch 50/50\n",
      "2/2 [==============================] - 0s 19ms/step - loss: 0.1184\n"
     ]
    }
   ],
   "source": [
    "# Train the model\n",
    "history = lstm_model.fit(X_train, y_train, epochs=50, batch_size=64)"
   ]
  },
  {
   "cell_type": "code",
   "execution_count": 102,
   "id": "6d5a5dff",
   "metadata": {},
   "outputs": [
    {
     "name": "stdout",
     "output_type": "stream",
     "text": [
      "1/1 [==============================] - 0s 49ms/step\n"
     ]
    }
   ],
   "source": [
    "#Predict:\n",
    "y_pred = lstm_model.predict(X_test)"
   ]
  },
  {
   "cell_type": "code",
   "execution_count": 103,
   "id": "754ae0db",
   "metadata": {},
   "outputs": [],
   "source": [
    "#Remember, these are standardized values. \n",
    "\n",
    "comparison = pd.DataFrame()\n",
    "\n",
    "comparison['actual'] = scaler.inverse_transform(y_test.reshape(-1, 1)).flatten()\n",
    "comparison['predicted'] = scaler.inverse_transform(y_pred).flatten()"
   ]
  },
  {
   "cell_type": "code",
   "execution_count": 104,
   "id": "4e5391fe",
   "metadata": {},
   "outputs": [
    {
     "data": {
      "text/html": [
       "<div>\n",
       "<style scoped>\n",
       "    .dataframe tbody tr th:only-of-type {\n",
       "        vertical-align: middle;\n",
       "    }\n",
       "\n",
       "    .dataframe tbody tr th {\n",
       "        vertical-align: top;\n",
       "    }\n",
       "\n",
       "    .dataframe thead th {\n",
       "        text-align: right;\n",
       "    }\n",
       "</style>\n",
       "<table border=\"1\" class=\"dataframe\">\n",
       "  <thead>\n",
       "    <tr style=\"text-align: right;\">\n",
       "      <th></th>\n",
       "      <th>actual</th>\n",
       "      <th>predicted</th>\n",
       "    </tr>\n",
       "  </thead>\n",
       "  <tbody>\n",
       "    <tr>\n",
       "      <th>0</th>\n",
       "      <td>81.349998</td>\n",
       "      <td>84.544960</td>\n",
       "    </tr>\n",
       "    <tr>\n",
       "      <th>1</th>\n",
       "      <td>82.949997</td>\n",
       "      <td>84.456444</td>\n",
       "    </tr>\n",
       "    <tr>\n",
       "      <th>2</th>\n",
       "      <td>80.330002</td>\n",
       "      <td>84.282967</td>\n",
       "    </tr>\n",
       "    <tr>\n",
       "      <th>3</th>\n",
       "      <td>78.370003</td>\n",
       "      <td>84.023674</td>\n",
       "    </tr>\n",
       "    <tr>\n",
       "      <th>4</th>\n",
       "      <td>78.959999</td>\n",
       "      <td>83.561356</td>\n",
       "    </tr>\n",
       "    <tr>\n",
       "      <th>5</th>\n",
       "      <td>81.099998</td>\n",
       "      <td>83.063919</td>\n",
       "    </tr>\n",
       "    <tr>\n",
       "      <th>6</th>\n",
       "      <td>82.540001</td>\n",
       "      <td>82.633926</td>\n",
       "    </tr>\n",
       "    <tr>\n",
       "      <th>7</th>\n",
       "      <td>82.330002</td>\n",
       "      <td>82.274620</td>\n",
       "    </tr>\n",
       "    <tr>\n",
       "      <th>8</th>\n",
       "      <td>83.139999</td>\n",
       "      <td>82.131729</td>\n",
       "    </tr>\n",
       "    <tr>\n",
       "      <th>9</th>\n",
       "      <td>83.370003</td>\n",
       "      <td>82.205986</td>\n",
       "    </tr>\n",
       "    <tr>\n",
       "      <th>10</th>\n",
       "      <td>82.980003</td>\n",
       "      <td>82.401054</td>\n",
       "    </tr>\n",
       "    <tr>\n",
       "      <th>11</th>\n",
       "      <td>83.239998</td>\n",
       "      <td>82.532120</td>\n",
       "    </tr>\n",
       "    <tr>\n",
       "      <th>12</th>\n",
       "      <td>84.620003</td>\n",
       "      <td>82.868393</td>\n",
       "    </tr>\n",
       "    <tr>\n",
       "      <th>13</th>\n",
       "      <td>86.739998</td>\n",
       "      <td>83.350006</td>\n",
       "    </tr>\n",
       "    <tr>\n",
       "      <th>14</th>\n",
       "      <td>88.160004</td>\n",
       "      <td>83.839394</td>\n",
       "    </tr>\n",
       "    <tr>\n",
       "      <th>15</th>\n",
       "      <td>87.459999</td>\n",
       "      <td>84.265892</td>\n",
       "    </tr>\n",
       "    <tr>\n",
       "      <th>16</th>\n",
       "      <td>85.099998</td>\n",
       "      <td>84.640892</td>\n",
       "    </tr>\n",
       "    <tr>\n",
       "      <th>17</th>\n",
       "      <td>83.199997</td>\n",
       "      <td>84.980194</td>\n",
       "    </tr>\n",
       "    <tr>\n",
       "      <th>18</th>\n",
       "      <td>82.080002</td>\n",
       "      <td>85.169495</td>\n",
       "    </tr>\n",
       "    <tr>\n",
       "      <th>19</th>\n",
       "      <td>83.050003</td>\n",
       "      <td>85.221169</td>\n",
       "    </tr>\n",
       "    <tr>\n",
       "      <th>20</th>\n",
       "      <td>83.120003</td>\n",
       "      <td>85.211990</td>\n",
       "    </tr>\n",
       "    <tr>\n",
       "      <th>21</th>\n",
       "      <td>83.440002</td>\n",
       "      <td>85.124252</td>\n",
       "    </tr>\n",
       "    <tr>\n",
       "      <th>22</th>\n",
       "      <td>84.110001</td>\n",
       "      <td>84.933563</td>\n",
       "    </tr>\n",
       "    <tr>\n",
       "      <th>23</th>\n",
       "      <td>83.760002</td>\n",
       "      <td>84.647545</td>\n",
       "    </tr>\n",
       "    <tr>\n",
       "      <th>24</th>\n",
       "      <td>83.519997</td>\n",
       "      <td>84.315979</td>\n",
       "    </tr>\n",
       "    <tr>\n",
       "      <th>25</th>\n",
       "      <td>84.160004</td>\n",
       "      <td>84.066467</td>\n",
       "    </tr>\n",
       "    <tr>\n",
       "      <th>26</th>\n",
       "      <td>81.709999</td>\n",
       "      <td>84.012711</td>\n",
       "    </tr>\n",
       "    <tr>\n",
       "      <th>27</th>\n",
       "      <td>81.389999</td>\n",
       "      <td>84.020203</td>\n",
       "    </tr>\n",
       "    <tr>\n",
       "      <th>28</th>\n",
       "      <td>78.809998</td>\n",
       "      <td>84.019394</td>\n",
       "    </tr>\n",
       "  </tbody>\n",
       "</table>\n",
       "</div>"
      ],
      "text/plain": [
       "       actual  predicted\n",
       "0   81.349998  84.544960\n",
       "1   82.949997  84.456444\n",
       "2   80.330002  84.282967\n",
       "3   78.370003  84.023674\n",
       "4   78.959999  83.561356\n",
       "5   81.099998  83.063919\n",
       "6   82.540001  82.633926\n",
       "7   82.330002  82.274620\n",
       "8   83.139999  82.131729\n",
       "9   83.370003  82.205986\n",
       "10  82.980003  82.401054\n",
       "11  83.239998  82.532120\n",
       "12  84.620003  82.868393\n",
       "13  86.739998  83.350006\n",
       "14  88.160004  83.839394\n",
       "15  87.459999  84.265892\n",
       "16  85.099998  84.640892\n",
       "17  83.199997  84.980194\n",
       "18  82.080002  85.169495\n",
       "19  83.050003  85.221169\n",
       "20  83.120003  85.211990\n",
       "21  83.440002  85.124252\n",
       "22  84.110001  84.933563\n",
       "23  83.760002  84.647545\n",
       "24  83.519997  84.315979\n",
       "25  84.160004  84.066467\n",
       "26  81.709999  84.012711\n",
       "27  81.389999  84.020203\n",
       "28  78.809998  84.019394"
      ]
     },
     "execution_count": 104,
     "metadata": {},
     "output_type": "execute_result"
    }
   ],
   "source": [
    "comparison"
   ]
  },
  {
   "cell_type": "code",
   "execution_count": 105,
   "id": "fa2a5c4c",
   "metadata": {},
   "outputs": [],
   "source": [
    "lstm_mse = mean_squared_error(comparison['actual'], comparison['predicted'])"
   ]
  },
  {
   "cell_type": "code",
   "execution_count": 106,
   "id": "1dad9711",
   "metadata": {},
   "outputs": [
    {
     "data": {
      "image/png": "[encoded data removed]",
      "text/plain": [
       "<Figure size 640x480 with 1 Axes>"
      ]
     },
     "metadata": {},
     "output_type": "display_data"
    }
   ],
   "source": [
    "plt.plot(comparison['actual'], label = 'actual')\n",
    "plt.plot(comparison['predicted'], label = 'predicted')\n",
    "\n",
    "plt.legend()\n",
    "\n",
    "plt.show()"
   ]
  },
  {
   "cell_type": "markdown",
   "id": "3515ea84",
   "metadata": {},
   "source": [
    "## GRU (With more layers)"
   ]
  },
  {
   "cell_type": "code",
   "execution_count": 107,
   "id": "2cfba0b5",
   "metadata": {},
   "outputs": [],
   "source": [
    "gru_model = keras.models.Sequential([\n",
    "    keras.layers.GRU(32, activation='relu', return_sequences=True, input_shape=[9, 1]),\n",
    "    keras.layers.GRU(32, activation='relu', return_sequences=False),\n",
    "    keras.layers.Dense(1, activation=None)\n",
    "])"
   ]
  },
  {
   "cell_type": "code",
   "execution_count": 108,
   "id": "934212df",
   "metadata": {},
   "outputs": [],
   "source": [
    "np.random.seed(42)\n",
    "tf.random.set_seed(42)\n",
    "\n",
    "gru_model.compile(loss=\"mse\", optimizer='Adam')"
   ]
  },
  {
   "cell_type": "code",
   "execution_count": 109,
   "id": "41e6a3be",
   "metadata": {
    "scrolled": true
   },
   "outputs": [
    {
     "name": "stdout",
     "output_type": "stream",
     "text": [
      "Epoch 1/50\n",
      "2/2 [==============================] - 5s 16ms/step - loss: 0.7662\n",
      "Epoch 2/50\n",
      "2/2 [==============================] - 0s 10ms/step - loss: 0.7044\n",
      "Epoch 3/50\n",
      "2/2 [==============================] - 0s 11ms/step - loss: 0.6464\n",
      "Epoch 4/50\n",
      "2/2 [==============================] - 0s 12ms/step - loss: 0.5926\n",
      "Epoch 5/50\n",
      "2/2 [==============================] - 0s 7ms/step - loss: 0.5395\n",
      "Epoch 6/50\n",
      "2/2 [==============================] - 0s 8ms/step - loss: 0.4909\n",
      "Epoch 7/50\n",
      "2/2 [==============================] - 0s 12ms/step - loss: 0.4432\n",
      "Epoch 8/50\n",
      "2/2 [==============================] - 0s 12ms/step - loss: 0.3946\n",
      "Epoch 9/50\n",
      "2/2 [==============================] - 0s 16ms/step - loss: 0.3511\n",
      "Epoch 10/50\n",
      "2/2 [==============================] - 0s 12ms/step - loss: 0.3086\n",
      "Epoch 11/50\n",
      "2/2 [==============================] - 0s 13ms/step - loss: 0.2675\n",
      "Epoch 12/50\n",
      "2/2 [==============================] - 0s 12ms/step - loss: 0.2300\n",
      "Epoch 13/50\n",
      "2/2 [==============================] - 0s 13ms/step - loss: 0.1987\n",
      "Epoch 14/50\n",
      "2/2 [==============================] - 0s 10ms/step - loss: 0.1707\n",
      "Epoch 15/50\n",
      "2/2 [==============================] - 0s 13ms/step - loss: 0.1488\n",
      "Epoch 16/50\n",
      "2/2 [==============================] - 0s 8ms/step - loss: 0.1312\n",
      "Epoch 17/50\n",
      "2/2 [==============================] - 0s 15ms/step - loss: 0.1163\n",
      "Epoch 18/50\n",
      "2/2 [==============================] - 0s 12ms/step - loss: 0.1022\n",
      "Epoch 19/50\n",
      "2/2 [==============================] - 0s 14ms/step - loss: 0.0885\n",
      "Epoch 20/50\n",
      "2/2 [==============================] - 0s 4ms/step - loss: 0.0758\n",
      "Epoch 21/50\n",
      "2/2 [==============================] - 0s 10ms/step - loss: 0.0677\n",
      "Epoch 22/50\n",
      "2/2 [==============================] - 0s 14ms/step - loss: 0.0638\n",
      "Epoch 23/50\n",
      "2/2 [==============================] - 0s 14ms/step - loss: 0.0615\n",
      "Epoch 24/50\n",
      "2/2 [==============================] - 0s 6ms/step - loss: 0.0612\n",
      "Epoch 25/50\n",
      "2/2 [==============================] - 0s 11ms/step - loss: 0.0617\n",
      "Epoch 26/50\n",
      "2/2 [==============================] - 0s 8ms/step - loss: 0.0622\n",
      "Epoch 27/50\n",
      "2/2 [==============================] - 0s 13ms/step - loss: 0.0617\n",
      "Epoch 28/50\n",
      "2/2 [==============================] - 0s 8ms/step - loss: 0.0597\n",
      "Epoch 29/50\n",
      "2/2 [==============================] - 0s 16ms/step - loss: 0.0573\n",
      "Epoch 30/50\n",
      "2/2 [==============================] - 0s 12ms/step - loss: 0.0551\n",
      "Epoch 31/50\n",
      "2/2 [==============================] - 0s 16ms/step - loss: 0.0532\n",
      "Epoch 32/50\n",
      "2/2 [==============================] - 0s 16ms/step - loss: 0.0523\n",
      "Epoch 33/50\n",
      "2/2 [==============================] - 0s 8ms/step - loss: 0.0512\n",
      "Epoch 34/50\n",
      "2/2 [==============================] - 0s 12ms/step - loss: 0.0511\n",
      "Epoch 35/50\n",
      "2/2 [==============================] - 0s 8ms/step - loss: 0.0507\n",
      "Epoch 36/50\n",
      "2/2 [==============================] - 0s 11ms/step - loss: 0.0496\n",
      "Epoch 37/50\n",
      "2/2 [==============================] - 0s 9ms/step - loss: 0.0490\n",
      "Epoch 38/50\n",
      "2/2 [==============================] - 0s 12ms/step - loss: 0.0492\n",
      "Epoch 39/50\n",
      "2/2 [==============================] - 0s 13ms/step - loss: 0.0495\n",
      "Epoch 40/50\n",
      "2/2 [==============================] - 0s 9ms/step - loss: 0.0481\n",
      "Epoch 41/50\n",
      "2/2 [==============================] - 0s 6ms/step - loss: 0.0457\n",
      "Epoch 42/50\n",
      "2/2 [==============================] - 0s 10ms/step - loss: 0.0444\n",
      "Epoch 43/50\n",
      "2/2 [==============================] - 0s 10ms/step - loss: 0.0448\n",
      "Epoch 44/50\n",
      "2/2 [==============================] - 0s 6ms/step - loss: 0.0477\n",
      "Epoch 45/50\n",
      "2/2 [==============================] - 0s 12ms/step - loss: 0.0477\n",
      "Epoch 46/50\n",
      "2/2 [==============================] - 0s 8ms/step - loss: 0.0444\n",
      "Epoch 47/50\n",
      "2/2 [==============================] - 0s 13ms/step - loss: 0.0422\n",
      "Epoch 48/50\n",
      "2/2 [==============================] - 0s 7ms/step - loss: 0.0423\n",
      "Epoch 49/50\n",
      "2/2 [==============================] - 0s 10ms/step - loss: 0.0420\n",
      "Epoch 50/50\n",
      "2/2 [==============================] - 0s 12ms/step - loss: 0.0408\n"
     ]
    }
   ],
   "source": [
    "# Train the model\n",
    "history = gru_model.fit(X_train, y_train, epochs=50, batch_size=64)"
   ]
  },
  {
   "cell_type": "code",
   "execution_count": 111,
   "id": "a121936c",
   "metadata": {},
   "outputs": [
    {
     "name": "stdout",
     "output_type": "stream",
     "text": [
      "1/1 [==============================] - 0s 437ms/step\n"
     ]
    }
   ],
   "source": [
    "#Predict:\n",
    "y_pred = gru_model.predict(X_test)"
   ]
  },
  {
   "cell_type": "code",
   "execution_count": 112,
   "id": "102a88f0",
   "metadata": {},
   "outputs": [],
   "source": [
    "#Remember, these are standardized values. \n",
    "\n",
    "comparison = pd.DataFrame()\n",
    "\n",
    "comparison['actual'] = scaler.inverse_transform(y_test.reshape(-1, 1)).flatten()\n",
    "comparison['predicted'] = scaler.inverse_transform(y_pred).flatten()"
   ]
  },
  {
   "cell_type": "code",
   "execution_count": 113,
   "id": "68ec4415",
   "metadata": {
    "scrolled": true
   },
   "outputs": [
    {
     "data": {
      "text/html": [
       "<div>\n",
       "<style scoped>\n",
       "    .dataframe tbody tr th:only-of-type {\n",
       "        vertical-align: middle;\n",
       "    }\n",
       "\n",
       "    .dataframe tbody tr th {\n",
       "        vertical-align: top;\n",
       "    }\n",
       "\n",
       "    .dataframe thead th {\n",
       "        text-align: right;\n",
       "    }\n",
       "</style>\n",
       "<table border=\"1\" class=\"dataframe\">\n",
       "  <thead>\n",
       "    <tr style=\"text-align: right;\">\n",
       "      <th></th>\n",
       "      <th>actual</th>\n",
       "      <th>predicted</th>\n",
       "    </tr>\n",
       "  </thead>\n",
       "  <tbody>\n",
       "    <tr>\n",
       "      <th>0</th>\n",
       "      <td>81.349998</td>\n",
       "      <td>83.542809</td>\n",
       "    </tr>\n",
       "    <tr>\n",
       "      <th>1</th>\n",
       "      <td>82.949997</td>\n",
       "      <td>83.042572</td>\n",
       "    </tr>\n",
       "    <tr>\n",
       "      <th>2</th>\n",
       "      <td>80.330002</td>\n",
       "      <td>82.935875</td>\n",
       "    </tr>\n",
       "    <tr>\n",
       "      <th>3</th>\n",
       "      <td>78.370003</td>\n",
       "      <td>82.460686</td>\n",
       "    </tr>\n",
       "    <tr>\n",
       "      <th>4</th>\n",
       "      <td>78.959999</td>\n",
       "      <td>81.656723</td>\n",
       "    </tr>\n",
       "    <tr>\n",
       "      <th>5</th>\n",
       "      <td>81.099998</td>\n",
       "      <td>81.132133</td>\n",
       "    </tr>\n",
       "    <tr>\n",
       "      <th>6</th>\n",
       "      <td>82.540001</td>\n",
       "      <td>81.162056</td>\n",
       "    </tr>\n",
       "    <tr>\n",
       "      <th>7</th>\n",
       "      <td>82.330002</td>\n",
       "      <td>81.526306</td>\n",
       "    </tr>\n",
       "    <tr>\n",
       "      <th>8</th>\n",
       "      <td>83.139999</td>\n",
       "      <td>81.853806</td>\n",
       "    </tr>\n",
       "    <tr>\n",
       "      <th>9</th>\n",
       "      <td>83.370003</td>\n",
       "      <td>82.240372</td>\n",
       "    </tr>\n",
       "    <tr>\n",
       "      <th>10</th>\n",
       "      <td>82.980003</td>\n",
       "      <td>82.591263</td>\n",
       "    </tr>\n",
       "    <tr>\n",
       "      <th>11</th>\n",
       "      <td>83.239998</td>\n",
       "      <td>82.766563</td>\n",
       "    </tr>\n",
       "    <tr>\n",
       "      <th>12</th>\n",
       "      <td>84.620003</td>\n",
       "      <td>82.942848</td>\n",
       "    </tr>\n",
       "    <tr>\n",
       "      <th>13</th>\n",
       "      <td>86.739998</td>\n",
       "      <td>83.334572</td>\n",
       "    </tr>\n",
       "    <tr>\n",
       "      <th>14</th>\n",
       "      <td>88.160004</td>\n",
       "      <td>84.054596</td>\n",
       "    </tr>\n",
       "    <tr>\n",
       "      <th>15</th>\n",
       "      <td>87.459999</td>\n",
       "      <td>84.938797</td>\n",
       "    </tr>\n",
       "    <tr>\n",
       "      <th>16</th>\n",
       "      <td>85.099998</td>\n",
       "      <td>85.527367</td>\n",
       "    </tr>\n",
       "    <tr>\n",
       "      <th>17</th>\n",
       "      <td>83.199997</td>\n",
       "      <td>85.460045</td>\n",
       "    </tr>\n",
       "    <tr>\n",
       "      <th>18</th>\n",
       "      <td>82.080002</td>\n",
       "      <td>84.910217</td>\n",
       "    </tr>\n",
       "    <tr>\n",
       "      <th>19</th>\n",
       "      <td>83.050003</td>\n",
       "      <td>84.187813</td>\n",
       "    </tr>\n",
       "    <tr>\n",
       "      <th>20</th>\n",
       "      <td>83.120003</td>\n",
       "      <td>83.797966</td>\n",
       "    </tr>\n",
       "    <tr>\n",
       "      <th>21</th>\n",
       "      <td>83.440002</td>\n",
       "      <td>83.577263</td>\n",
       "    </tr>\n",
       "    <tr>\n",
       "      <th>22</th>\n",
       "      <td>84.110001</td>\n",
       "      <td>83.486351</td>\n",
       "    </tr>\n",
       "    <tr>\n",
       "      <th>23</th>\n",
       "      <td>83.760002</td>\n",
       "      <td>83.550095</td>\n",
       "    </tr>\n",
       "    <tr>\n",
       "      <th>24</th>\n",
       "      <td>83.519997</td>\n",
       "      <td>83.559410</td>\n",
       "    </tr>\n",
       "    <tr>\n",
       "      <th>25</th>\n",
       "      <td>84.160004</td>\n",
       "      <td>83.517876</td>\n",
       "    </tr>\n",
       "    <tr>\n",
       "      <th>26</th>\n",
       "      <td>81.709999</td>\n",
       "      <td>83.612900</td>\n",
       "    </tr>\n",
       "    <tr>\n",
       "      <th>27</th>\n",
       "      <td>81.389999</td>\n",
       "      <td>83.281548</td>\n",
       "    </tr>\n",
       "    <tr>\n",
       "      <th>28</th>\n",
       "      <td>78.809998</td>\n",
       "      <td>82.883652</td>\n",
       "    </tr>\n",
       "  </tbody>\n",
       "</table>\n",
       "</div>"
      ],
      "text/plain": [
       "       actual  predicted\n",
       "0   81.349998  83.542809\n",
       "1   82.949997  83.042572\n",
       "2   80.330002  82.935875\n",
       "3   78.370003  82.460686\n",
       "4   78.959999  81.656723\n",
       "5   81.099998  81.132133\n",
       "6   82.540001  81.162056\n",
       "7   82.330002  81.526306\n",
       "8   83.139999  81.853806\n",
       "9   83.370003  82.240372\n",
       "10  82.980003  82.591263\n",
       "11  83.239998  82.766563\n",
       "12  84.620003  82.942848\n",
       "13  86.739998  83.334572\n",
       "14  88.160004  84.054596\n",
       "15  87.459999  84.938797\n",
       "16  85.099998  85.527367\n",
       "17  83.199997  85.460045\n",
       "18  82.080002  84.910217\n",
       "19  83.050003  84.187813\n",
       "20  83.120003  83.797966\n",
       "21  83.440002  83.577263\n",
       "22  84.110001  83.486351\n",
       "23  83.760002  83.550095\n",
       "24  83.519997  83.559410\n",
       "25  84.160004  83.517876\n",
       "26  81.709999  83.612900\n",
       "27  81.389999  83.281548\n",
       "28  78.809998  82.883652"
      ]
     },
     "execution_count": 113,
     "metadata": {},
     "output_type": "execute_result"
    }
   ],
   "source": [
    "comparison"
   ]
  },
  {
   "cell_type": "code",
   "execution_count": 114,
   "id": "107401e7",
   "metadata": {},
   "outputs": [],
   "source": [
    "gru_mse = mean_squared_error(comparison['actual'], comparison['predicted'])"
   ]
  },
  {
   "cell_type": "code",
   "execution_count": 115,
   "id": "adb7be98",
   "metadata": {},
   "outputs": [
    {
     "data": {
      "image/png": "[encoded data removed]",
      "text/plain": [
       "<Figure size 640x480 with 1 Axes>"
      ]
     },
     "metadata": {},
     "output_type": "display_data"
    }
   ],
   "source": [
    "plt.plot(comparison['actual'], label = 'actual')\n",
    "plt.plot(comparison['predicted'], label = 'predicted')\n",
    "\n",
    "plt.legend()\n",
    "\n",
    "plt.show()"
   ]
  },
  {
   "cell_type": "markdown",
   "id": "8d975da4",
   "metadata": {},
   "source": [
    "## Conv1D"
   ]
  },
  {
   "cell_type": "code",
   "execution_count": 116,
   "id": "3b9c43c8",
   "metadata": {},
   "outputs": [],
   "source": [
    "conv1d_model = keras.models.Sequential([\n",
    "    keras.layers.Conv1D(filters=20, kernel_size=3, strides=1, padding=\"valid\", input_shape=[9, 1]),\n",
    "    keras.layers.GRU(32, activation='relu', return_sequences=True),\n",
    "    keras.layers.GRU(32, activation='relu', return_sequences=False),\n",
    "    keras.layers.Dense(1, activation=None)\n",
    "])"
   ]
  },
  {
   "cell_type": "code",
   "execution_count": 117,
   "id": "6bbbca1f",
   "metadata": {
    "scrolled": true
   },
   "outputs": [
    {
     "name": "stdout",
     "output_type": "stream",
     "text": [
      "Epoch 1/30\n",
      "3/3 [==============================] - 5s 7ms/step - loss: 0.8141\n",
      "Epoch 2/30\n",
      "3/3 [==============================] - 0s 6ms/step - loss: 0.6786\n",
      "Epoch 3/30\n",
      "3/3 [==============================] - 0s 12ms/step - loss: 0.5603\n",
      "Epoch 4/30\n",
      "3/3 [==============================] - 0s 8ms/step - loss: 0.4659\n",
      "Epoch 5/30\n",
      "3/3 [==============================] - 0s 5ms/step - loss: 0.3724\n",
      "Epoch 6/30\n",
      "3/3 [==============================] - 0s 8ms/step - loss: 0.2859\n",
      "Epoch 7/30\n",
      "3/3 [==============================] - 0s 9ms/step - loss: 0.2070\n",
      "Epoch 8/30\n",
      "3/3 [==============================] - 0s 11ms/step - loss: 0.1412\n",
      "Epoch 9/30\n",
      "3/3 [==============================] - 0s 7ms/step - loss: 0.1040\n",
      "Epoch 10/30\n",
      "3/3 [==============================] - 0s 6ms/step - loss: 0.1007\n",
      "Epoch 11/30\n",
      "3/3 [==============================] - 0s 7ms/step - loss: 0.1106\n",
      "Epoch 12/30\n",
      "3/3 [==============================] - 0s 6ms/step - loss: 0.1087\n",
      "Epoch 13/30\n",
      "3/3 [==============================] - 0s 7ms/step - loss: 0.0949\n",
      "Epoch 14/30\n",
      "3/3 [==============================] - 0s 7ms/step - loss: 0.0829\n",
      "Epoch 15/30\n",
      "3/3 [==============================] - 0s 9ms/step - loss: 0.0819\n",
      "Epoch 16/30\n",
      "3/3 [==============================] - 0s 5ms/step - loss: 0.0837\n",
      "Epoch 17/30\n",
      "3/3 [==============================] - 0s 8ms/step - loss: 0.0777\n",
      "Epoch 18/30\n",
      "3/3 [==============================] - 0s 9ms/step - loss: 0.0730\n",
      "Epoch 19/30\n",
      "3/3 [==============================] - 0s 8ms/step - loss: 0.0698\n",
      "Epoch 20/30\n",
      "3/3 [==============================] - 0s 8ms/step - loss: 0.0662\n",
      "Epoch 21/30\n",
      "3/3 [==============================] - 0s 6ms/step - loss: 0.0639\n",
      "Epoch 22/30\n",
      "3/3 [==============================] - 0s 7ms/step - loss: 0.0616\n",
      "Epoch 23/30\n",
      "3/3 [==============================] - 0s 5ms/step - loss: 0.0596\n",
      "Epoch 24/30\n",
      "3/3 [==============================] - 0s 8ms/step - loss: 0.0568\n",
      "Epoch 25/30\n",
      "3/3 [==============================] - 0s 8ms/step - loss: 0.0555\n",
      "Epoch 26/30\n",
      "3/3 [==============================] - 0s 3ms/step - loss: 0.0539\n",
      "Epoch 27/30\n",
      "3/3 [==============================] - 0s 8ms/step - loss: 0.0530\n",
      "Epoch 28/30\n",
      "3/3 [==============================] - 0s 8ms/step - loss: 0.0512\n",
      "Epoch 29/30\n",
      "3/3 [==============================] - 0s 7ms/step - loss: 0.0494\n",
      "Epoch 30/30\n",
      "3/3 [==============================] - 0s 8ms/step - loss: 0.0493\n"
     ]
    }
   ],
   "source": [
    "np.random.seed(42)\n",
    "tf.random.set_seed(42)\n",
    "\n",
    "conv1d_model.compile(loss=\"mse\", optimizer='Adam')\n",
    "\n",
    "history = conv1d_model.fit(X_train, y_train, epochs=30)"
   ]
  },
  {
   "cell_type": "code",
   "execution_count": 118,
   "id": "26c91ae2",
   "metadata": {},
   "outputs": [
    {
     "name": "stdout",
     "output_type": "stream",
     "text": [
      "1/1 [==============================] - 1s 520ms/step\n"
     ]
    }
   ],
   "source": [
    "#Predict:\n",
    "y_pred = conv1d_model.predict(X_test)"
   ]
  },
  {
   "cell_type": "code",
   "execution_count": 119,
   "id": "f76a99bc",
   "metadata": {},
   "outputs": [],
   "source": [
    "#Remember, these are standardized values. \n",
    "\n",
    "comparison = pd.DataFrame()\n",
    "\n",
    "comparison['actual'] = scaler.inverse_transform(y_test.reshape(-1, 1)).flatten()\n",
    "comparison['predicted'] = scaler.inverse_transform(y_pred).flatten()"
   ]
  },
  {
   "cell_type": "code",
   "execution_count": 120,
   "id": "b7603231",
   "metadata": {},
   "outputs": [
    {
     "data": {
      "text/html": [
       "<div>\n",
       "<style scoped>\n",
       "    .dataframe tbody tr th:only-of-type {\n",
       "        vertical-align: middle;\n",
       "    }\n",
       "\n",
       "    .dataframe tbody tr th {\n",
       "        vertical-align: top;\n",
       "    }\n",
       "\n",
       "    .dataframe thead th {\n",
       "        text-align: right;\n",
       "    }\n",
       "</style>\n",
       "<table border=\"1\" class=\"dataframe\">\n",
       "  <thead>\n",
       "    <tr style=\"text-align: right;\">\n",
       "      <th></th>\n",
       "      <th>actual</th>\n",
       "      <th>predicted</th>\n",
       "    </tr>\n",
       "  </thead>\n",
       "  <tbody>\n",
       "    <tr>\n",
       "      <th>0</th>\n",
       "      <td>81.349998</td>\n",
       "      <td>83.697960</td>\n",
       "    </tr>\n",
       "    <tr>\n",
       "      <th>1</th>\n",
       "      <td>82.949997</td>\n",
       "      <td>83.294441</td>\n",
       "    </tr>\n",
       "    <tr>\n",
       "      <th>2</th>\n",
       "      <td>80.330002</td>\n",
       "      <td>83.017288</td>\n",
       "    </tr>\n",
       "    <tr>\n",
       "      <th>3</th>\n",
       "      <td>78.370003</td>\n",
       "      <td>82.545097</td>\n",
       "    </tr>\n",
       "    <tr>\n",
       "      <th>4</th>\n",
       "      <td>78.959999</td>\n",
       "      <td>81.918419</td>\n",
       "    </tr>\n",
       "    <tr>\n",
       "      <th>5</th>\n",
       "      <td>81.099998</td>\n",
       "      <td>81.341331</td>\n",
       "    </tr>\n",
       "    <tr>\n",
       "      <th>6</th>\n",
       "      <td>82.540001</td>\n",
       "      <td>81.064598</td>\n",
       "    </tr>\n",
       "    <tr>\n",
       "      <th>7</th>\n",
       "      <td>82.330002</td>\n",
       "      <td>81.130898</td>\n",
       "    </tr>\n",
       "    <tr>\n",
       "      <th>8</th>\n",
       "      <td>83.139999</td>\n",
       "      <td>81.374046</td>\n",
       "    </tr>\n",
       "    <tr>\n",
       "      <th>9</th>\n",
       "      <td>83.370003</td>\n",
       "      <td>81.754097</td>\n",
       "    </tr>\n",
       "    <tr>\n",
       "      <th>10</th>\n",
       "      <td>82.980003</td>\n",
       "      <td>82.162193</td>\n",
       "    </tr>\n",
       "    <tr>\n",
       "      <th>11</th>\n",
       "      <td>83.239998</td>\n",
       "      <td>82.504974</td>\n",
       "    </tr>\n",
       "    <tr>\n",
       "      <th>12</th>\n",
       "      <td>84.620003</td>\n",
       "      <td>82.797112</td>\n",
       "    </tr>\n",
       "    <tr>\n",
       "      <th>13</th>\n",
       "      <td>86.739998</td>\n",
       "      <td>83.124008</td>\n",
       "    </tr>\n",
       "    <tr>\n",
       "      <th>14</th>\n",
       "      <td>88.160004</td>\n",
       "      <td>83.629860</td>\n",
       "    </tr>\n",
       "    <tr>\n",
       "      <th>15</th>\n",
       "      <td>87.459999</td>\n",
       "      <td>84.322525</td>\n",
       "    </tr>\n",
       "    <tr>\n",
       "      <th>16</th>\n",
       "      <td>85.099998</td>\n",
       "      <td>84.944572</td>\n",
       "    </tr>\n",
       "    <tr>\n",
       "      <th>17</th>\n",
       "      <td>83.199997</td>\n",
       "      <td>85.223526</td>\n",
       "    </tr>\n",
       "    <tr>\n",
       "      <th>18</th>\n",
       "      <td>82.080002</td>\n",
       "      <td>85.090096</td>\n",
       "    </tr>\n",
       "    <tr>\n",
       "      <th>19</th>\n",
       "      <td>83.050003</td>\n",
       "      <td>84.615990</td>\n",
       "    </tr>\n",
       "    <tr>\n",
       "      <th>20</th>\n",
       "      <td>83.120003</td>\n",
       "      <td>84.141312</td>\n",
       "    </tr>\n",
       "    <tr>\n",
       "      <th>21</th>\n",
       "      <td>83.440002</td>\n",
       "      <td>83.697205</td>\n",
       "    </tr>\n",
       "    <tr>\n",
       "      <th>22</th>\n",
       "      <td>84.110001</td>\n",
       "      <td>83.417023</td>\n",
       "    </tr>\n",
       "    <tr>\n",
       "      <th>23</th>\n",
       "      <td>83.760002</td>\n",
       "      <td>83.324081</td>\n",
       "    </tr>\n",
       "    <tr>\n",
       "      <th>24</th>\n",
       "      <td>83.519997</td>\n",
       "      <td>83.315132</td>\n",
       "    </tr>\n",
       "    <tr>\n",
       "      <th>25</th>\n",
       "      <td>84.160004</td>\n",
       "      <td>83.360657</td>\n",
       "    </tr>\n",
       "    <tr>\n",
       "      <th>26</th>\n",
       "      <td>81.709999</td>\n",
       "      <td>83.481087</td>\n",
       "    </tr>\n",
       "    <tr>\n",
       "      <th>27</th>\n",
       "      <td>81.389999</td>\n",
       "      <td>83.304016</td>\n",
       "    </tr>\n",
       "    <tr>\n",
       "      <th>28</th>\n",
       "      <td>78.809998</td>\n",
       "      <td>83.061584</td>\n",
       "    </tr>\n",
       "  </tbody>\n",
       "</table>\n",
       "</div>"
      ],
      "text/plain": [
       "       actual  predicted\n",
       "0   81.349998  83.697960\n",
       "1   82.949997  83.294441\n",
       "2   80.330002  83.017288\n",
       "3   78.370003  82.545097\n",
       "4   78.959999  81.918419\n",
       "5   81.099998  81.341331\n",
       "6   82.540001  81.064598\n",
       "7   82.330002  81.130898\n",
       "8   83.139999  81.374046\n",
       "9   83.370003  81.754097\n",
       "10  82.980003  82.162193\n",
       "11  83.239998  82.504974\n",
       "12  84.620003  82.797112\n",
       "13  86.739998  83.124008\n",
       "14  88.160004  83.629860\n",
       "15  87.459999  84.322525\n",
       "16  85.099998  84.944572\n",
       "17  83.199997  85.223526\n",
       "18  82.080002  85.090096\n",
       "19  83.050003  84.615990\n",
       "20  83.120003  84.141312\n",
       "21  83.440002  83.697205\n",
       "22  84.110001  83.417023\n",
       "23  83.760002  83.324081\n",
       "24  83.519997  83.315132\n",
       "25  84.160004  83.360657\n",
       "26  81.709999  83.481087\n",
       "27  81.389999  83.304016\n",
       "28  78.809998  83.061584"
      ]
     },
     "execution_count": 120,
     "metadata": {},
     "output_type": "execute_result"
    }
   ],
   "source": [
    "comparison"
   ]
  },
  {
   "cell_type": "code",
   "execution_count": 121,
   "id": "bf2c1d80",
   "metadata": {},
   "outputs": [],
   "source": [
    "conv1d_mse = mean_squared_error(comparison['actual'], comparison['predicted'])"
   ]
  },
  {
   "cell_type": "code",
   "execution_count": 122,
   "id": "bea4f047",
   "metadata": {},
   "outputs": [
    {
     "data": {
      "image/png": "[encoded data removed]",
      "text/plain": [
       "<Figure size 640x480 with 1 Axes>"
      ]
     },
     "metadata": {},
     "output_type": "display_data"
    }
   ],
   "source": [
    "plt.plot(comparison['actual'], label = 'actual')\n",
    "plt.plot(comparison['predicted'], label = 'predicted')\n",
    "\n",
    "plt.legend()\n",
    "\n",
    "plt.show()"
   ]
  },
  {
   "cell_type": "code",
   "execution_count": 123,
   "id": "0bc3ff54",
   "metadata": {},
   "outputs": [
    {
     "name": "stdout",
     "output_type": "stream",
     "text": [
      "Root Mean Squared Error for SimpleRNN Model is:1.832290688958303\n",
      "Root Mean Squared Error for LSTM Model is:6.829825372582195\n",
      "Root Mean Squared Error for GRU Model is:4.096540651357757\n",
      "Root Mean Squared Error for Conv1D Model is:4.806245536380843\n"
     ]
    }
   ],
   "source": [
    "print('Root Mean Squared Error for SimpleRNN Model is:' + str(rnn_model_mse))\n",
    "print('Root Mean Squared Error for LSTM Model is:' + str(lstm_mse))\n",
    "print('Root Mean Squared Error for GRU Model is:' + str(gru_mse))\n",
    "print('Root Mean Squared Error for Conv1D Model is:' + str(conv1d_mse))"
   ]
  },
  {
   "cell_type": "markdown",
   "id": "49ca5bb6",
   "metadata": {},
   "source": [
    "### Summary and Analysis"
   ]
  },
  {
   "cell_type": "markdown",
   "id": "11d7ddc5",
   "metadata": {},
   "source": [
    "#### As we can see above the Root Mean Square Error for\n",
    "#### SimpleRNN Model is 1.832290688958303\n",
    "#### LSTM Model is 6.829825372582195\n",
    "#### GRU Model is 4.096540651357757\n",
    "#### Conv1D Model is 4.806245536380843"
   ]
  },
  {
   "cell_type": "markdown",
   "id": "4f7f9173",
   "metadata": {},
   "source": [
    "#### On the basis of above result, we can that our best model for the JABIL stock price prediction is Simple RNN Model with lowest root mean square value out of all the other models.\n",
    "#### Since the performace for Simple RNN is the best, we can use Simple RNN for future stock prediction for JABIL."
   ]
  }
 ],
 "metadata": {
  "kernelspec": {
   "display_name": "Python 3 (ipykernel)",
   "language": "python",
   "name": "python3"
  },
  "language_info": {
   "codemirror_mode": {
    "name": "ipython",
    "version": 3
   },
   "file_extension": ".py",
   "mimetype": "text/x-python",
   "name": "python",
   "nbconvert_exporter": "python",
   "pygments_lexer": "ipython3",
   "version": "3.11.2"
  }
 },
 "nbformat": 4,
 "nbformat_minor": 5
}
